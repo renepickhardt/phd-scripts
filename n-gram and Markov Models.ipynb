{
 "cells": [
  {
   "cell_type": "code",
   "execution_count": 1,
   "metadata": {
    "collapsed": true
   },
   "outputs": [],
   "source": [
    "from functools import partial\n",
    "import itertools\n",
    "\n",
    "from functools32 import lru_cache\n",
    "\"\"\"\n",
    "Corpus example taking from PhD thesis\n",
    "\n",
    "abbac\n",
    "abccba\n",
    "bbac\n",
    "cba \"\"\"\n",
    "D=[[\"a\",\"b\",\"b\",\"a\",\"c\"],[\"a\",\"b\",\"c\",\"c\",\"b\",\"a\"],[\"b\",\"b\",\"a\",\"c\"],[\"c\",\"b\",\"a\"]]\n",
    "N=7"
   ]
  },
  {
   "cell_type": "code",
   "execution_count": 2,
   "metadata": {
    "collapsed": false
   },
   "outputs": [],
   "source": [
    "#@lru_cache(maxsize=500000)\n",
    "def ngrams(input, n):\n",
    "  if n<=0:\n",
    "    return {}\n",
    "  output = {}\n",
    "  for i in range(len(input)-n+1):\n",
    "    g = ' '.join(input[i:i+n])\n",
    "    output.setdefault(g, 0)\n",
    "    output[g] += 1\n",
    "  return output \n",
    "\n",
    "def add(x,y):\n",
    "    return { k: x.get(k, 0) + y.get(k, 0) for k in set(x) | set(y) }"
   ]
  },
  {
   "cell_type": "code",
   "execution_count": 3,
   "metadata": {
    "collapsed": false
   },
   "outputs": [],
   "source": [
    "def memo(f):\n",
    "    d = {}\n",
    "    def func(arg):\n",
    "        if arg not in d:\n",
    "            d[arg]=f(arg)\n",
    "        return d[arg]\n",
    "    return func\n",
    "\n",
    "def memo2(f):\n",
    "    d = {}\n",
    "    def func(arg1,arg2):\n",
    "        key = str(arg1) + str(arg2)\n",
    "        if arg not in d:\n",
    "            d[key]=f(arg1,arg2)\n",
    "        return d[key]\n",
    "    return func\n",
    "\n",
    "\n",
    "#@memo2\n",
    "def buildProducts(W,n):\n",
    "    return map(\" \".join,itertools.product(W, repeat= n))\n",
    "\n",
    "#@memo\n",
    "def buildVocabulary(D):\n",
    "    res ={}\n",
    "    for sentence in D:\n",
    "        #TODO: introduce caching via dictionary\n",
    "        tmp = ngrams(sentence,1)\n",
    "        res = add(tmp,res)\n",
    "#    print res,res.keys()\n",
    "    return res.keys()\n",
    "\n",
    "#@lru_cache(maxsize=500)\n",
    "def buildAbsoluteCounter(D,n):\n",
    "    W = buildVocabulary(D)\n",
    "    W_n = buildProducts(W,n)\n",
    "    \n",
    "    \n",
    "    def absoluteCounts(s):\n",
    "        res = {}\n",
    "        if s in W_n:\n",
    "            #print \"din't hit cache\"\n",
    "            for sentence in D:\n",
    "                #TODO: introduce caching via dictionary\n",
    "                tmp = ngrams(sentence,n)\n",
    "                res = add(tmp,res)\n",
    "            if s in res:\n",
    "                return res[s]\n",
    "            return 0\n",
    "    return absoluteCounts\n",
    "    \n",
    "def buildNGramMLE(D,n,absoluteCounts):\n",
    "    W = buildVocabulary(D)\n",
    "    W_n = buildProducts(W,n)\n",
    "\n",
    "    def totalSum(baseSet):\n",
    "        return sum([absoluteCounts(el) for el in baseSet])\n",
    "    \n",
    "    def estimator(s):\n",
    "        return float(absoluteCounts(s))/totalSum(W_n)    \n",
    "\n",
    "    return estimator\n",
    "\n",
    "def buildContCounter(D,n,absoluteCounts):\n",
    "    W = buildVocabulary(D)\n",
    "    W_n_1 = buildProducts(W,n-1)\n",
    "    \n",
    "    def contCounter(s):\n",
    "        res = 0\n",
    "        for w in W:\n",
    "            if absoluteCounts(\" \".join([w,s])) > 0:\n",
    "                res = res + 1\n",
    "        return res\n",
    "    return contCounter\n",
    "\n",
    "def buildMarkovModel(D,n,h,absoluteCounts):\n",
    "    W = buildVocabulary(D)\n",
    "    \n",
    "    W_full = []\n",
    "    for w in W:\n",
    "        W_full.append(\" \".join([h,w]))\n",
    "    \n",
    "    def totalSum(baseSet):\n",
    "        return sum(map(absoluteCounts,baseSet))\n",
    "    \n",
    "    \n",
    "    def markovModel(w):\n",
    "        if totalSum(W_full) > 0:\n",
    "            return float(absoluteCounts(\" \".join([h,w])))/totalSum(W_full)\n",
    "        else: #backoff order! TODO: we could have added the order to which backoff took place in particular backoff needs no backoff weights because everything is working nicely. I am just destroing the markov assumption for histories where it doesn't hold\n",
    "            freq = memo(buildAbsoluteCounter(D,n))            \n",
    "            x = buildMarkovModel(D,n-1,\" \".join(h.split(\" \")[1:]),freq)\n",
    "            return x(w)\n",
    "    return markovModel"
   ]
  },
  {
   "cell_type": "code",
   "execution_count": 4,
   "metadata": {
    "collapsed": false
   },
   "outputs": [
    {
     "name": "stdout",
     "output_type": "stream",
     "text": [
      "n =  1  sum =  1.0\n",
      "n =  2  sum =  1.0\n",
      "n =  3  sum =  1.0\n",
      "n =  4  sum =  1.0\n",
      "n =  5  sum =  1.0\n",
      "n =  6  sum =  1.0\n"
     ]
    }
   ],
   "source": [
    "MLE={}\n",
    "for i in range(1,N):\n",
    "    res = 0\n",
    "    freq = memo(buildAbsoluteCounter(D,i))\n",
    "    mle = memo(buildNGramMLE(D,i,freq))\n",
    "    for s in buildProducts(buildVocabulary(D),i):\n",
    "        res = res + mle(s)\n",
    "    print \"n = \", i , \" sum = \", res\n",
    "    MLE[i] = mle"
   ]
  },
  {
   "cell_type": "code",
   "execution_count": 5,
   "metadata": {
    "collapsed": false
   },
   "outputs": [
    {
     "name": "stdout",
     "output_type": "stream",
     "text": [
      "n =  1  sum =  1.0\n",
      "n =  2  sum =  1.0\n",
      "n =  3  sum =  1.0\n",
      "n =  4  sum =  1.0\n",
      "n =  5  sum =  1.0\n"
     ]
    }
   ],
   "source": [
    "CC = {}\n",
    "for i in range(1,N-1):\n",
    "    res = 0\n",
    "    freq = memo(buildAbsoluteCounter(D,i+1))\n",
    "    cc = memo(buildContCounter(D,i,freq))\n",
    "    mle = memo(buildNGramMLE(D,i,cc))\n",
    "    for s in buildProducts(buildVocabulary(D),i):\n",
    "        #print cc(s)\n",
    "        res = res + mle(s)\n",
    "    print \"n = \", i , \" sum = \", res\n",
    "    CC[i] = mle"
   ]
  },
  {
   "cell_type": "code",
   "execution_count": 6,
   "metadata": {
    "collapsed": false
   },
   "outputs": [
    {
     "name": "stdout",
     "output_type": "stream",
     "text": [
      "s=  a  n=  1  MLE=  0.333333333333  CC=  0.142857142857\n",
      "s=  c  n=  1  MLE=  0.277777777778  CC=  0.428571428571\n",
      "s=  b  n=  1  MLE=  0.388888888889  CC=  0.428571428571\n"
     ]
    }
   ],
   "source": [
    "def testNGram(s):\n",
    "    n = len(s.split(\" \"))\n",
    "    print \"s= \",s, \" n= \", n, \" MLE= \", MLE[n](s), \" CC= \", CC[n](s)\n",
    "for s in buildProducts(buildVocabulary(D),1):\n",
    "    testNGram(s)\n",
    "\n",
    "# TODO: CONJECTURE: I start doubting weather it makes really sense to backoff to continuation counts in Kneser Ney Smoothing.\n",
    "# If the history has not been seen why would I count in how many different contexts the history appeared?"
   ]
  },
  {
   "cell_type": "code",
   "execution_count": 19,
   "metadata": {
    "collapsed": false
   },
   "outputs": [
    {
     "name": "stdout",
     "output_type": "stream",
     "text": [
      "n =  1  globalSum =  0.2  localSum =  0.2  lambda:  0.2\n",
      "n =  2  globalSum =  0.36  localSum =  0.16  lambda:  0.16\n",
      "n =  3  globalSum =  0.488  localSum =  0.128  lambda:  0.128\n",
      "n =  4  globalSum =  0.5904  localSum =  0.1024  lambda:  0.1024\n",
      "0.0228571428571\n"
     ]
    }
   ],
   "source": [
    "#TODO how to make this in a way to not compute it over and over again\n",
    "def l(m,rho):\n",
    "    if m<1 or rho <=0 or rho>=1:\n",
    "        raise (\"argument in wrong range, m should be an int bigger than 0 and rho a real between 0 and 1. rho was: \"+str(rho) + \" m was: \" + str(m))\n",
    "    return rho*pow(1-rho,m-1)\n",
    "    return d[m]\n",
    "\n",
    "@memo\n",
    "def queryNGramLM(query):\n",
    "    words = query.split(\" \")\n",
    "    m = len(words)\n",
    "    freq = memo(buildAbsoluteCounter(D,m))\n",
    "    mle = memo(buildNGramMLE(D,m,freq))\n",
    "    return mle(query)*l(m,0.2)\n",
    "\n",
    "@memo\n",
    "def queryMarkov0(query):\n",
    "    freq = memo(buildAbsoluteCounter(D,1))\n",
    "    mle = memo(buildNGramMLE(D,1,freq))\n",
    "    words = query.split(\" \")\n",
    "    m = len(words)\n",
    "    res = l(m,0.2)\n",
    "    for word in words:\n",
    "        res = res * mle(word)\n",
    "    return res\n",
    "N = 5\n",
    "globalSum = 0\n",
    "for i in range(1,N):\n",
    "    localSum = 0\n",
    "    for s in buildProducts(buildVocabulary(D),i):\n",
    "        localSum = localSum + queryNGramLM(s)\n",
    "    globalSum = globalSum + localSum\n",
    "    print \"n = \", i , \" globalSum = \" , globalSum ,\" localSum = \", localSum, \" lambda: \", l(i,0.2)\n",
    "print queryNGramLM(\"a b\")"
   ]
  },
  {
   "cell_type": "code",
   "execution_count": 14,
   "metadata": {
    "collapsed": false
   },
   "outputs": [
    {
     "name": "stdout",
     "output_type": "stream",
     "text": [
      "n =  1  globalSum =  0.2  localSum =  0.2  lambda:  0.2\n",
      "n =  2  globalSum =  0.36  localSum =  0.16  lambda:  0.16\n",
      "n =  3  globalSum =  0.488  localSum =  0.128  lambda:  0.128\n",
      "n =  4  globalSum =  0.5904  localSum =  0.1024  lambda:  0.1024\n",
      "0.0\n"
     ]
    }
   ],
   "source": [
    "globalSum = 0\n",
    "for i in range(1,N):\n",
    "    localSum = 0\n",
    "    for s in buildProducts(buildVocabulary(D),i):\n",
    "        localSum = localSum + queryMarkov0(s)\n",
    "    globalSum = globalSum + localSum\n",
    "    print \"n = \", i , \" globalSum = \" , globalSum ,\" localSum = \", localSum, \" lambda: \", l(i,0.2)\n",
    "print queryNGramLM(\"a a a\")"
   ]
  },
  {
   "cell_type": "code",
   "execution_count": 9,
   "metadata": {
    "collapsed": false,
    "scrolled": false
   },
   "outputs": [
    {
     "name": "stdout",
     "output_type": "stream",
     "text": [
      "h=  a a a a  n =  4  sum =  1.0\n",
      "h=  a a a c  n =  4  sum =  1.0\n",
      "h=  a a a b  n =  4  sum =  1.0\n",
      "h=  a a c a  n =  4  sum =  1.0\n",
      "h=  a a c c  n =  4  sum =  1.0\n",
      "h=  a a c b  n =  4  sum =  1.0\n",
      "h=  a a b a  n =  4  sum =  1.0\n",
      "h=  a a b c  n =  4  sum =  1.0\n",
      "h=  a a b b  n =  4  sum =  1.0\n",
      "h=  a c a a  n =  4  sum =  1.0\n",
      "h=  a c a c  n =  4  sum =  1.0\n",
      "h=  a c a b  n =  4  sum =  1.0\n",
      "h=  a c c a  n =  4  sum =  1.0\n",
      "h=  a c c c  n =  4  sum =  1.0\n",
      "h=  a c c b  n =  4  sum =  1.0\n",
      "h=  a c b a  n =  4  sum =  1.0\n",
      "h=  a c b c  n =  4  sum =  1.0\n",
      "h=  a c b b  n =  4  sum =  1.0\n",
      "h=  a b a a  n =  4  sum =  1.0\n",
      "h=  a b a c  n =  4  sum =  1.0\n",
      "h=  a b a b  n =  4  sum =  1.0\n",
      "h=  a b c a  n =  4  sum =  1.0\n",
      "h=  a b c c  n =  4  sum =  1.0\n",
      "h=  a b c b  n =  4  sum =  1.0\n",
      "h=  a b b a  n =  4  sum =  1.0\n",
      "h=  a b b c  n =  4  sum =  1.0\n",
      "h=  a b b b  n =  4  sum =  1.0\n",
      "h=  c a a a  n =  4  sum =  1.0\n",
      "h=  c a a c  n =  4  sum =  1.0\n",
      "h=  c a a b  n =  4  sum =  1.0\n",
      "h=  c a c a  n =  4  sum =  1.0\n",
      "h=  c a c c  n =  4  sum =  1.0\n",
      "h=  c a c b  n =  4  sum =  1.0\n",
      "h=  c a b a  n =  4  sum =  1.0\n",
      "h=  c a b c  n =  4  sum =  1.0\n",
      "h=  c a b b  n =  4  sum =  1.0\n",
      "h=  c c a a  n =  4  sum =  1.0\n",
      "h=  c c a c  n =  4  sum =  1.0\n",
      "h=  c c a b  n =  4  sum =  1.0\n",
      "h=  c c c a  n =  4  sum =  1.0\n",
      "h=  c c c c  n =  4  sum =  1.0\n",
      "h=  c c c b  n =  4  sum =  1.0\n",
      "h=  c c b a  n =  4  sum =  1.0\n",
      "h=  c c b c  n =  4  sum =  1.0\n",
      "h=  c c b b  n =  4  sum =  1.0\n",
      "h=  c b a a  n =  4  sum =  1.0\n",
      "h=  c b a c  n =  4  sum =  1.0\n",
      "h=  c b a b  n =  4  sum =  1.0\n",
      "h=  c b c a  n =  4  sum =  1.0\n",
      "h=  c b c c  n =  4  sum =  1.0\n",
      "h=  c b c b  n =  4  sum =  1.0\n",
      "h=  c b b a  n =  4  sum =  1.0\n",
      "h=  c b b c  n =  4  sum =  1.0\n",
      "h=  c b b b  n =  4  sum =  1.0\n",
      "h=  b a a a  n =  4  sum =  1.0\n",
      "h=  b a a c  n =  4  sum =  1.0\n",
      "h=  b a a b  n =  4  sum =  1.0\n",
      "h=  b a c a  n =  4  sum =  1.0\n",
      "h=  b a c c  n =  4  sum =  1.0\n",
      "h=  b a c b  n =  4  sum =  1.0\n",
      "h=  b a b a  n =  4  sum =  1.0\n",
      "h=  b a b c  n =  4  sum =  1.0\n",
      "h=  b a b b  n =  4  sum =  1.0\n",
      "h=  b c a a  n =  4  sum =  1.0\n",
      "h=  b c a c  n =  4  sum =  1.0\n",
      "h=  b c a b  n =  4  sum =  1.0\n",
      "h=  b c c a  n =  4  sum =  1.0\n",
      "h=  b c c c  n =  4  sum =  1.0\n",
      "h=  b c c b  n =  4  sum =  1.0\n",
      "h=  b c b a  n =  4  sum =  1.0\n",
      "h=  b c b c  n =  4  sum =  1.0\n",
      "h=  b c b b  n =  4  sum =  1.0\n",
      "h=  b b a a  n =  4  sum =  1.0\n",
      "h=  b b a c  n =  4  sum =  1.0\n",
      "h=  b b a b  n =  4  sum =  1.0\n",
      "h=  b b c a  n =  4  sum =  1.0\n",
      "h=  b b c c  n =  4  sum =  1.0\n",
      "h=  b b c b  n =  4  sum =  1.0\n",
      "h=  b b b a  n =  4  sum =  1.0\n",
      "h=  b b b c  n =  4  sum =  1.0\n",
      "h=  b b b b  n =  4  sum =  1.0\n"
     ]
    }
   ],
   "source": [
    "i=4\n",
    "for h in buildProducts(buildVocabulary(D),i):\n",
    "    freq = memo(buildAbsoluteCounter(D,i+1))\n",
    "    mm = buildMarkovModel(D,i,h,freq)\n",
    "    res = 0\n",
    "    for s in buildProducts(buildVocabulary(D),1):\n",
    "        res = res + mm(s)\n",
    "#        print \"P(\"+s+\"|\"+h+\") = \", mm(s)\n",
    "    print \"h= \",h ,\" n = \", i , \" sum = \", res\n",
    "\n"
   ]
  },
  {
   "cell_type": "code",
   "execution_count": 20,
   "metadata": {
    "collapsed": false
   },
   "outputs": [
    {
     "name": "stdout",
     "output_type": "stream",
     "text": [
      "n =  1  globalSum =  0.2  localSum =  0.2  lambda:  0.2\n",
      "n =  2  globalSum =  0.36  localSum =  0.16  lambda:  0.16\n",
      "n =  3  globalSum =  0.488  localSum =  0.128  lambda:  0.128\n",
      "n =  4  globalSum =  0.5904  localSum =  0.1024  lambda:  0.1024\n"
     ]
    }
   ],
   "source": [
    "def helperqueryMarkovLM(query,order):\n",
    "    if order==0:\n",
    "        freq = memo(buildAbsoluteCounter(D,1))\n",
    "        mle = memo(buildNGramMLE(D,1,freq))\n",
    "        return mle(query)\n",
    "    words = query.split(\" \")\n",
    "    m = len(words)\n",
    "    \n",
    "    res = 1\n",
    "    i = order\n",
    "    freq = buildAbsoluteCounter(D,order+1)\n",
    "    for i in range(order, len(words)):\n",
    "        w = words[i]\n",
    "        h = \" \".join(words[i-order:i])\n",
    "#        print h,w\n",
    "        mm = buildMarkovModel(D,order,h,freq)\n",
    "        res = res * mm(w)\n",
    "#        print res\n",
    "#    print \"recorsive call: \", \" \".join(words[0:order]), order-1, \" result from resursive call: \",\n",
    "    x = helperqueryMarkovLM(\" \".join(words[0:order]), order-1)\n",
    "#    print x\n",
    "    res = res * x\n",
    "    return res\n",
    "\n",
    "def queryMarkovLM(query,order):\n",
    "    words = query.split(\" \")\n",
    "    m = len(words)\n",
    "    return l(m,0.2) * helperqueryMarkovLM(query,order) \n",
    "    \n",
    "N = 5\n",
    "globalSum = 0\n",
    "for i in range(1,N):\n",
    "    localSum = 0\n",
    "    for s in buildProducts(buildVocabulary(D),i):\n",
    "        localSum = localSum + queryNGramLM(s)\n",
    "    globalSum = globalSum + localSum\n",
    "    print \"n = \", i , \" globalSum = \" , globalSum ,\" localSum = \", localSum, \" lambda: \", l(i,0.2)\n"
   ]
  },
  {
   "cell_type": "code",
   "execution_count": 21,
   "metadata": {
    "collapsed": false,
    "scrolled": true
   },
   "outputs": [
    {
     "name": "stdout",
     "output_type": "stream",
     "text": [
      "Entropy 6.99577 5.60434 4.85749 3.84245 3.84245 2.80662\n",
      "E-rel   1.00000 0.80111 0.69435 0.54925 0.54925 0.40119\n",
      "zeros   0.00000 0.0000 686.0000 1036.0000 1036.0000 1066.0000\n",
      "        equal   MM - 0  MM - 1  MM - 2  MM - 3  ngram Model  \n"
     ]
    }
   ],
   "source": [
    "#TODO how to make this in a way to not compute it over and over again\n",
    "def l(m,rho):\n",
    "    if m<1 or rho <=0 or rho>=1:\n",
    "        raise (\"argument in wrong range, m should be an int bigger than 0 and rho a real between 0 and 1. rho was: \"+str(rho) + \" m was: \" + str(m))\n",
    "    d={i:float(1)/float(6) for i in range(1,7)}\n",
    "    return d[m]\n",
    "\n",
    "import math\n",
    "def calcEntropy():\n",
    "    Hmm = 0\n",
    "    Hmm1 = 0\n",
    "    Hmm2 = 0\n",
    "    Hmm3=0\n",
    "    Hng = 0\n",
    "    \n",
    "    zmm=0\n",
    "    zmm1=0\n",
    "    zmm2=0\n",
    "    zmm3=0\n",
    "    zng =0\n",
    "    N=7\n",
    "    for i in range(1,N):\n",
    "        for s in buildProducts(buildVocabulary(D),i):\n",
    "            mm = queryMarkov0(s)\n",
    "            ng = queryNGramLM(s)\n",
    "            mm1 = queryMarkovLM(s,1)\n",
    "            mm2 = queryMarkovLM(s,2)\n",
    "            mm3 = queryMarkovLM(s,3)\n",
    "\n",
    "            if (mm>0):\n",
    "                Hmm = Hmm - mm*math.log(mm)\n",
    "            else:\n",
    "                zmm = zmm+1\n",
    "            if (mm1>0):\n",
    "                Hmm1 = Hmm1 - mm1*math.log(mm1)\n",
    "            else:\n",
    "                zmm1 = zmm1+1\n",
    "            if (mm2>0):\n",
    "                Hmm2 = Hmm2 - mm2*math.log(mm2)\n",
    "            else:\n",
    "                zmm2 = zmm2+1\n",
    "            if (ng>0):\n",
    "                Hng = Hng - ng*math.log(ng)\n",
    "            else:\n",
    "                zng = zng+1\n",
    "            if (mm3>0):\n",
    "                Hmm3 = Hmm3 - mm3*math.log(mm3)\n",
    "            else:\n",
    "                zmm3 = zmm3+1\n",
    "\n",
    "            #print s, \"       \", \"{0:.5f}\".format(mm), \"{0:.5f}\".format(mm1),\"{0:.5f}\".format(mm2), \"{0:.5f}\".format(ng)\n",
    "    maxH = math.log(3+9+27+81+243+729)\n",
    "    print \"Entropy {0:.5f}\".format(math.log(3+9+27+81+243+729)), \"{0:.5f}\".format(Hmm), \"{0:.5f}\".format(Hmm1),\"{0:.5f}\".format(Hmm2),\"{0:.5f}\".format(Hmm3), \"{0:.5f}\".format(Hng)\n",
    "    print \"E-rel   {0:.5f}\".format(1.0), \"{0:.5f}\".format(Hmm/maxH), \"{0:.5f}\".format(Hmm1/maxH),\"{0:.5f}\".format(Hmm2/maxH),\"{0:.5f}\".format(Hmm3/maxH), \"{0:.5f}\".format(Hng/maxH)\n",
    "    print \"zeros  \", \"0.00000\",\"{0:.4f}\".format(zmm), \"{0:.4f}\".format(zmm1),\"{0:.4f}\".format(zmm2), \"{0:.4f}\".format(zmm3), \"{0:.4f}\".format(zng)\n",
    "    print \"     \", \"  equal  \", \"MM - 0 \", \"MM - 1 \", \"MM - 2 \", \"MM - 3 \", \"ngram Model  \" \n",
    "calcEntropy()\n",
    "#result makes sens. the n-gram lm should always produce the lowest entropy value\n",
    "#real question is: when smoothing the n-gram model will the entropy still be below the markov models\n",
    "#other question: can an n-gram lm be seen as a \\infty-markov language model?\n",
    "\n",
    "#TODO: FIX: something seems still a little bit wrong. Even though my markov models sum up for MM-3 we have no change in comparison to MM-2"
   ]
  },
  {
   "cell_type": "markdown",
   "metadata": {},
   "source": [
    "#Oldstuff not erased yet"
   ]
  },
  {
   "cell_type": "code",
   "execution_count": null,
   "metadata": {
    "collapsed": true
   },
   "outputs": [],
   "source": []
  },
  {
   "cell_type": "code",
   "execution_count": 10,
   "metadata": {
    "collapsed": false
   },
   "outputs": [
    {
     "ename": "IndentationError",
     "evalue": "unexpected indent (<ipython-input-10-d09628c35165>, line 3)",
     "output_type": "error",
     "traceback": [
      "\u001b[0;36m  File \u001b[0;32m\"<ipython-input-10-d09628c35165>\"\u001b[0;36m, line \u001b[0;32m3\u001b[0m\n\u001b[0;31m    for s in buildProducts(buildVocabulary(D),1):\u001b[0m\n\u001b[0m    ^\u001b[0m\n\u001b[0;31mIndentationError\u001b[0m\u001b[0;31m:\u001b[0m unexpected indent\n"
     ]
    }
   ],
   "source": [
    "#    res = 0\n",
    "    \n",
    "    for s in buildProducts(buildVocabulary(D),1):\n",
    "        res = res + mm(s)\n",
    "        print \"P(\"+s+\"|\"+h+\") = \", mm(s)\n",
    "    print \"h= \",h ,\" n = \", i , \" sum = \", res\n",
    "    \n",
    "    freq = memo(buildAbsoluteCounter(D,m))\n",
    "    mle = memo(buildNGramMLE(D,m,freq))\n",
    "    return mle(query)*l(m,0.2)"
   ]
  },
  {
   "cell_type": "code",
   "execution_count": 65,
   "metadata": {
    "collapsed": false
   },
   "outputs": [
    {
     "name": "stdout",
     "output_type": "stream",
     "text": [
      "0.1\n",
      "['a', 'c', 'b']\n",
      "['a a', 'a c', 'a b', 'c a', 'c c', 'c b', 'b a', 'b c', 'b b']\n"
     ]
    },
    {
     "data": {
      "text/plain": [
       "1"
      ]
     },
     "execution_count": 65,
     "metadata": {},
     "output_type": "execute_result"
    }
   ],
   "source": [
    "def ngram(n):\n",
    "    def totalSum(arg,baseSet):\n",
    "        return sum([arg(el) for el in baseSet])\n",
    "\n",
    "    def c(s):\n",
    "        res ={}\n",
    "        for sentence in D:\n",
    "            #TODO: introduce caching via dictionary\n",
    "            tmp = ngrams(\" \".join(sentence),n)\n",
    "            res = add(tmp,res)\n",
    "        if s in res:\n",
    "            return res[s]\n",
    "        return 0\n",
    "\n",
    "    def uniform(s):\n",
    "        return 1\n",
    "\n",
    "    def estimator(f,s):\n",
    "        return float(f(s))/totalSum(f,buildProducts(buildVocabulary(D),n))    \n",
    "    return {\"a\":c,\"u\":uniform,\"ae\":partial(estimator, c), \"ue\":partial(estimator, uniform)}\n",
    "\n",
    "print ngram(3)[\"ae\"](\"a b b\")\n",
    "print buildVocabulary(D)\n",
    "print buildProducts(buildVocabulary(D),2)\n",
    "\n",
    "c3(\"a b b\")"
   ]
  },
  {
   "cell_type": "code",
   "execution_count": 150,
   "metadata": {
    "collapsed": true
   },
   "outputs": [],
   "source": [
    "def foo(arg):\n",
    "    print \"call\"\n",
    "    return arg* arg\n",
    "def bar(arg):\n",
    "    print \"call\"\n",
    "    return arg* arg * arg\n",
    "\n",
    "times = memo(bar)\n",
    "cachedsquare = memo(foo)"
   ]
  },
  {
   "cell_type": "code",
   "execution_count": 151,
   "metadata": {
    "collapsed": false
   },
   "outputs": [
    {
     "name": "stdout",
     "output_type": "stream",
     "text": [
      "call\n",
      "4\n",
      "4\n",
      "4\n",
      "call\n",
      "8\n",
      "8\n",
      "call\n",
      "8\n"
     ]
    }
   ],
   "source": [
    "print cachedsquare(2)\n",
    "print cachedsquare(2)\n",
    "print cachedsquare(2)\n",
    "\n",
    "print times(2)\n",
    "print times(2)\n",
    "times = memo(bar)\n",
    "print times(2)\n"
   ]
  },
  {
   "cell_type": "code",
   "execution_count": 167,
   "metadata": {
    "collapsed": false
   },
   "outputs": [
    {
     "name": "stdout",
     "output_type": "stream",
     "text": [
      "['a a', 'a b', 'a c', 'b a', 'b b', 'b c', 'c a', 'c b', 'c c']\n"
     ]
    }
   ],
   "source": [
    "#print order(3)[\"e\"](\"a b b\",order(3)[\"a\"])\n",
    "import itertools\n",
    "print map(\" \".join,itertools.product(\"abc\",repeat = 2))"
   ]
  },
  {
   "cell_type": "code",
   "execution_count": null,
   "metadata": {
    "collapsed": true
   },
   "outputs": [],
   "source": [
    "def c(n,s):\n",
    "    res ={}\n",
    "    for sentence in D:\n",
    "        tmp = ngrams(sentence,n)\n",
    "        res = add(tmp,res)\n",
    "    return res[s]\n",
    "print c(2,)"
   ]
  },
  {
   "cell_type": "code",
   "execution_count": 88,
   "metadata": {
    "collapsed": false
   },
   "outputs": [
    {
     "name": "stdout",
     "output_type": "stream",
     "text": [
      "0.03125\n"
     ]
    }
   ],
   "source": [
    "print l(5,0.5)"
   ]
  },
  {
   "cell_type": "code",
   "execution_count": 112,
   "metadata": {
    "collapsed": false
   },
   "outputs": [
    {
     "name": "stdout",
     "output_type": "stream",
     "text": [
      "0 0 {}\n",
      "1 18 {'a': 6, 'c': 5, 'b': 7}\n",
      "2 14 {'a b': 2, 'a c': 2, 'b a': 4, 'b c': 1, 'b b': 2, 'c b': 2, 'c c': 1}\n",
      "3 10 {'a b b': 1, 'a b c': 1, 'b a c': 2, 'b b a': 2, 'c b a': 2, 'c c b': 1, 'b c c': 1}\n",
      "4 6 {'a b c c': 1, 'b c c b': 1, 'c c b a': 1, 'b b a c': 2, 'a b b a': 1}\n",
      "5 3 {'a b c c b': 1, 'b c c b a': 1, 'a b b a c': 1}\n",
      "6 1 {'a b c c b a': 1}\n",
      "7 0 {}\n"
     ]
    }
   ],
   "source": [
    "absoluteCounts = {i:{} for i in range(0,N)}\n",
    "for s in D:\n",
    "    for i in range(0,N):\n",
    "        res = ngrams(s,i)\n",
    "        absoluteCounts[i] = add(absoluteCounts[i],res)\n",
    "\n",
    "totalCounts = {i:sum(absoluteCounts[i].values()) for i in range(0,N)}\n",
    "        \n",
    "for i in range(0,N):\n",
    "    print i, totalCounts[i], absoluteCounts[i]\n",
    "\n",
    "    #TODO: make this more general\n",
    "ngramModels={i:{k:float(v)/totalCounts[i] for k,v in absoluteCounts[i].iteritems()} for i in range(0,N)}\n",
    "\n",
    "for i in range(0,N):\n",
    "    print i, totalCounts[i], ngramModels[i]"
   ]
  }
 ],
 "metadata": {
  "kernelspec": {
   "display_name": "Python 2",
   "language": "python",
   "name": "python2"
  },
  "language_info": {
   "codemirror_mode": {
    "name": "ipython",
    "version": 2
   },
   "file_extension": ".py",
   "mimetype": "text/x-python",
   "name": "python",
   "nbconvert_exporter": "python",
   "pygments_lexer": "ipython2",
   "version": "2.7.12"
  }
 },
 "nbformat": 4,
 "nbformat_minor": 0
}
