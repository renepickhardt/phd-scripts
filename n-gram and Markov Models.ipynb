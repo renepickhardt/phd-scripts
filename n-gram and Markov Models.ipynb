{
 "cells": [
  {
   "cell_type": "code",
   "execution_count": 1,
   "metadata": {
    "collapsed": true
   },
   "outputs": [],
   "source": [
    "\"\"\"\n",
    "Corpus example taking from PhD thesis\n",
    "\n",
    "abbac\n",
    "abccba\n",
    "bbac\n",
    "cba \"\"\"\n",
    "D=[[\"a\",\"b\",\"b\",\"a\",\"c\"],[\"a\",\"b\",\"c\",\"c\",\"b\",\"a\"],[\"b\",\"b\",\"a\",\"c\"],[\"c\",\"b\",\"a\"]]\n",
    "N=8"
   ]
  },
  {
   "cell_type": "code",
   "execution_count": 2,
   "metadata": {
    "collapsed": true
   },
   "outputs": [],
   "source": [
    "def ngrams(input, n):\n",
    "  if n<=0:\n",
    "    return {}\n",
    "  output = {}\n",
    "  for i in range(len(input)-n+1):\n",
    "    g = ' '.join(input[i:i+n])\n",
    "    output.setdefault(g, 0)\n",
    "    output[g] += 1\n",
    "  return output \n",
    "\n",
    "def add(x,y):\n",
    "    return { k: x.get(k, 0) + y.get(k, 0) for k in set(x) | set(y) }\n",
    "\n",
    "#TODO how to make this in a way to not compute it over and over again\n",
    "def l(m,rho):\n",
    "    if m<1 or rho <=0 or rho>=1:\n",
    "        raise (\"argument in wrong range, m should be an int bigger than 0 and rho a real between 0 and 1. rho was: \"+str(rho) + \" m was: \" + str(m))\n",
    "    return rho*pow(1-rho,m-1)"
   ]
  },
  {
   "cell_type": "code",
   "execution_count": 3,
   "metadata": {
    "collapsed": false
   },
   "outputs": [
    {
     "name": "stdout",
     "output_type": "stream",
     "text": [
      "0 0 {}\n",
      "1 18 {'a': 6, 'c': 5, 'b': 7}\n",
      "2 14 {'a b': 2, 'a c': 2, 'b a': 4, 'b c': 1, 'b b': 2, 'c b': 2, 'c c': 1}\n",
      "3 10 {'a b b': 1, 'a b c': 1, 'b a c': 2, 'b b a': 2, 'c b a': 2, 'c c b': 1, 'b c c': 1}\n",
      "4 6 {'a b c c': 1, 'b c c b': 1, 'c c b a': 1, 'b b a c': 2, 'a b b a': 1}\n",
      "5 3 {'a b c c b': 1, 'b c c b a': 1, 'a b b a c': 1}\n",
      "6 1 {'a b c c b a': 1}\n",
      "7 0 {}\n"
     ]
    }
   ],
   "source": [
    "absoluteCounts = {i:{} for i in range(0,N)}\n",
    "for s in D:\n",
    "    for i in range(0,N):\n",
    "        res = ngrams(s,i)\n",
    "        absoluteCounts[i] = add(absoluteCounts[i],res)\n",
    "\n",
    "totalCounts = {i:sum(absoluteCounts[i].values()) for i in range(0,N)}\n",
    "        \n",
    "for i in range(0,N):\n",
    "    print i, totalCounts[i], absoluteCounts[i]\n"
   ]
  },
  {
   "cell_type": "code",
   "execution_count": 4,
   "metadata": {
    "collapsed": false
   },
   "outputs": [],
   "source": [
    "#TODO: make this more general\n",
    "ngramModels={i:{k:float(v)/totalCounts[i] for k,v in absoluteCounts[i].iteritems()} for i in range(0,N)}"
   ]
  },
  {
   "cell_type": "code",
   "execution_count": 5,
   "metadata": {
    "collapsed": false
   },
   "outputs": [
    {
     "name": "stdout",
     "output_type": "stream",
     "text": [
      "0 0 {}\n",
      "1 18 {'a': 0.3333333333333333, 'c': 0.2777777777777778, 'b': 0.3888888888888889}\n",
      "2 14 {'a b': 0.14285714285714285, 'a c': 0.14285714285714285, 'b a': 0.2857142857142857, 'b c': 0.07142857142857142, 'b b': 0.14285714285714285, 'c b': 0.14285714285714285, 'c c': 0.07142857142857142}\n",
      "3 10 {'a b b': 0.1, 'a b c': 0.1, 'b a c': 0.2, 'b b a': 0.2, 'c b a': 0.2, 'b c c': 0.1, 'c c b': 0.1}\n",
      "4 6 {'c c b a': 0.16666666666666666, 'a b b a': 0.16666666666666666, 'a b c c': 0.16666666666666666, 'b b a c': 0.3333333333333333, 'b c c b': 0.16666666666666666}\n",
      "5 3 {'a b c c b': 0.3333333333333333, 'b c c b a': 0.3333333333333333, 'a b b a c': 0.3333333333333333}\n",
      "6 1 {'a b c c b a': 1.0}\n",
      "7 0 {}\n"
     ]
    }
   ],
   "source": [
    "for i in range(0,N):\n",
    "    print i, totalCounts[i], ngramModels[i]"
   ]
  },
  {
   "cell_type": "code",
   "execution_count": 21,
   "metadata": {
    "collapsed": false
   },
   "outputs": [],
   "source": [
    "from functools import partial\n",
    "import itertools\n",
    "\n",
    "W=\"abc\"   \n",
    "\n",
    "\n",
    "def buildProducts(W,n):\n",
    "    return map(\" \".join,itertools.product(W, repeat= n))\n",
    "\n",
    "def buildVocabulary(D):\n",
    "    res ={}\n",
    "    for sentence in D:\n",
    "        #TODO: introduce caching via dictionary\n",
    "        tmp = ngrams(sentence,1)\n",
    "        res = add(tmp,res)\n",
    "    print res,res.keys()\n",
    "    return res.keys()\n",
    "\n",
    "def buildAbsoluteCounter(D,n):\n",
    "    W = buildVocabulary(D)\n",
    "    W_n = buildProducts(W,n)\n",
    "    \n",
    "    res = {}\n",
    "    def absoluteCounts(s):\n",
    "        if s in res:\n",
    "            return res[s]\n",
    "        if s in W_n:\n",
    "            print \"calc shit\"\n",
    "            for sentence in D:\n",
    "                #TODO: introduce caching via dictionary\n",
    "                tmp = ngrams(sentence,n)\n",
    "                for k in set(res) | set(tmp):\n",
    "                    res[k]=res.get(k, 0) + tmp.get(k, 0)\n",
    "            if s in res:\n",
    "                return res[s]\n",
    "            return 0\n",
    "    return absoluteCounts\n",
    "    \n",
    "def memo(f):\n",
    "    d = {}\n",
    "    def func(arg):\n",
    "        if arg not in d:\n",
    "            d[arg]=f(arg)\n",
    "        return d[arg]\n",
    "    return func\n",
    "\n",
    "def ngram(n):\n",
    "    def totalSum(arg,baseSet):\n",
    "        return sum([arg(el) for el in baseSet])\n",
    "\n",
    "    def c(s):\n",
    "        res ={}\n",
    "        for sentence in D:\n",
    "            #TODO: introduce caching via dictionary\n",
    "            tmp = ngrams(sentence,n)\n",
    "            for k in set(res) | set(tmp):\n",
    "                res[k]=res.get(k, 0) + tmp.get(k, 0)\n",
    "        if s in res:\n",
    "            return res[s]\n",
    "        return 0\n",
    "\n",
    "    def uniform(s):\n",
    "        return 1\n",
    "\n",
    "    def estimator(f,s):\n",
    "        return float(f(s))/totalSum(f,buildProducts(W,n))    \n",
    "    return {\"a\":c,\"u\":uniform,\"ae\":partial(estimator, c), \"ue\":partial(estimator, uniform)}"
   ]
  },
  {
   "cell_type": "code",
   "execution_count": 22,
   "metadata": {
    "collapsed": false
   },
   "outputs": [
    {
     "name": "stdout",
     "output_type": "stream",
     "text": [
      "0.1\n",
      "{'a': 6, 'c': 5, 'b': 7} ['a', 'c', 'b']\n",
      "0.037037037037\n",
      "{'a': 6, 'c': 5, 'b': 7} ['a', 'c', 'b']\n",
      "['a', 'c', 'b']\n",
      "{'a': 6, 'c': 5, 'b': 7} ['a', 'c', 'b']\n",
      "['a a', 'a c', 'a b', 'c a', 'c c', 'c b', 'b a', 'b c', 'b b']\n",
      "calc shit\n"
     ]
    },
    {
     "data": {
      "text/plain": [
       "1"
      ]
     },
     "execution_count": 22,
     "metadata": {},
     "output_type": "execute_result"
    }
   ],
   "source": [
    "print ngram(3)[\"ae\"](\"a b b\")\n",
    "c3 = buildAbsoluteCounter(D,3)\n",
    "\n",
    "print ngram(3)[\"ue\"](\"a b b\")\n",
    "print buildVocabulary(D)\n",
    "print buildProducts(buildVocabulary(D),2)\n",
    "\n",
    "c3(\"a b b\")"
   ]
  },
  {
   "cell_type": "code",
   "execution_count": null,
   "metadata": {
    "collapsed": true
   },
   "outputs": [],
   "source": [
    "\n",
    "def buildStuff(D,n):\n",
    "res = {}\n",
    "    def c(s):\n",
    "        if not s in res:\n",
    "            res = myFunc(100)\n",
    "            return 0\n",
    "        else:\n",
    "            return res[s]\n",
    "    return c\n",
    "ok, modulo formatierung\n",
    "anyway, die zuweisung im c macht Probleme:\n",
    "\n",
    "res = myFunc(100)\n",
    "das hier erzeugt ne neue variable res die die andere überschattet\n",
    "und sowas hattest du auch im code wenn ich mich richtig erinnere"
   ]
  },
  {
   "cell_type": "code",
   "execution_count": 189,
   "metadata": {
    "collapsed": false
   },
   "outputs": [
    {
     "name": "stdout",
     "output_type": "stream",
     "text": [
      "{'a': 6, 'c': 5, 'b': 7} ['a', 'c', 'b']\n",
      "calc shit\n",
      "0\n",
      "calc shit\n",
      "0\n",
      "calc shit\n",
      "0\n",
      "calc shit\n",
      "0\n",
      "calc shit\n",
      "0\n",
      "calc shit\n",
      "0\n",
      "calc shit\n",
      "0\n",
      "calc shit\n",
      "1\n",
      "1\n",
      "calc shit\n",
      "0\n",
      "calc shit\n",
      "0\n",
      "calc shit\n",
      "0\n",
      "calc shit\n",
      "0\n",
      "calc shit\n",
      "0\n",
      "calc shit\n",
      "1\n",
      "calc shit\n",
      "2\n",
      "calc shit\n",
      "0\n",
      "calc shit\n",
      "0\n",
      "calc shit\n",
      "0\n",
      "calc shit\n",
      "2\n",
      "calc shit\n",
      "0\n",
      "calc shit\n",
      "0\n",
      "calc shit\n",
      "1\n",
      "calc shit\n",
      "0\n",
      "calc shit\n",
      "2\n",
      "calc shit\n",
      "0\n",
      "calc shit\n",
      "0\n",
      "{'a': 6, 'c': 5, 'b': 7} ['a', 'c', 'b']\n",
      "0\n",
      "0\n",
      "0\n",
      "0\n",
      "0\n",
      "0\n",
      "0\n",
      "1\n",
      "1\n",
      "0\n",
      "0\n",
      "0\n",
      "0\n",
      "0\n",
      "1\n",
      "2\n",
      "0\n",
      "0\n",
      "0\n",
      "2\n",
      "0\n",
      "0\n",
      "1\n",
      "0\n",
      "2\n",
      "0\n",
      "0\n"
     ]
    }
   ],
   "source": [
    "for s in buildProducts(buildVocabulary(D),3):\n",
    "    print c3(s)\n",
    "    \n",
    "for s in buildProducts(buildVocabulary(D),3):\n",
    "    print c3(s)\n",
    "    "
   ]
  },
  {
   "cell_type": "code",
   "execution_count": 150,
   "metadata": {
    "collapsed": true
   },
   "outputs": [],
   "source": [
    "def foo(arg):\n",
    "    print \"call\"\n",
    "    return arg* arg\n",
    "def bar(arg):\n",
    "    print \"call\"\n",
    "    return arg* arg * arg\n",
    "\n",
    "times = memo(bar)\n",
    "cachedsquare = memo(foo)"
   ]
  },
  {
   "cell_type": "code",
   "execution_count": 151,
   "metadata": {
    "collapsed": false
   },
   "outputs": [
    {
     "name": "stdout",
     "output_type": "stream",
     "text": [
      "call\n",
      "4\n",
      "4\n",
      "4\n",
      "call\n",
      "8\n",
      "8\n",
      "call\n",
      "8\n"
     ]
    }
   ],
   "source": [
    "print cachedsquare(2)\n",
    "print cachedsquare(2)\n",
    "print cachedsquare(2)\n",
    "\n",
    "print times(2)\n",
    "print times(2)\n",
    "times = memo(bar)\n",
    "print times(2)\n"
   ]
  },
  {
   "cell_type": "code",
   "execution_count": 167,
   "metadata": {
    "collapsed": false
   },
   "outputs": [
    {
     "name": "stdout",
     "output_type": "stream",
     "text": [
      "['a a', 'a b', 'a c', 'b a', 'b b', 'b c', 'c a', 'c b', 'c c']\n"
     ]
    }
   ],
   "source": [
    "#print order(3)[\"e\"](\"a b b\",order(3)[\"a\"])\n",
    "import itertools\n",
    "print map(\" \".join,itertools.product(\"abc\",repeat = 2))"
   ]
  },
  {
   "cell_type": "code",
   "execution_count": null,
   "metadata": {
    "collapsed": true
   },
   "outputs": [],
   "source": [
    "def c(n,s):\n",
    "    res ={}\n",
    "    for sentence in D:\n",
    "        tmp = ngrams(sentence,n)\n",
    "        res = add(tmp,res)\n",
    "    return res[s]\n",
    "print c(2,)"
   ]
  },
  {
   "cell_type": "code",
   "execution_count": 44,
   "metadata": {
    "collapsed": false
   },
   "outputs": [
    {
     "name": "stdout",
     "output_type": "stream",
     "text": [
      "0.03125\n"
     ]
    }
   ],
   "source": [
    "print l(5,0.5)\n",
    "\n",
    "def queryNgramModel(query):\n",
    "    words = query.split(\" \")\n",
    "    m = len(words)\n",
    "    return ngrams[m][query]*l(m,0.5)\n",
    "    "
   ]
  },
  {
   "cell_type": "code",
   "execution_count": 45,
   "metadata": {
    "collapsed": false
   },
   "outputs": [
    {
     "ename": "TypeError",
     "evalue": "'function' object has no attribute '__getitem__'",
     "output_type": "error",
     "traceback": [
      "\u001b[0;31m---------------------------------------------------------------------------\u001b[0m",
      "\u001b[0;31mTypeError\u001b[0m                                 Traceback (most recent call last)",
      "\u001b[0;32m<ipython-input-45-e0503b4ceef1>\u001b[0m in \u001b[0;36m<module>\u001b[0;34m()\u001b[0m\n\u001b[0;32m----> 1\u001b[0;31m \u001b[0;32mprint\u001b[0m \u001b[0mqueryNgramModel\u001b[0m\u001b[0;34m(\u001b[0m\u001b[0;34m\"a b\"\u001b[0m\u001b[0;34m)\u001b[0m\u001b[0;34m\u001b[0m\u001b[0m\n\u001b[0m",
      "\u001b[0;32m<ipython-input-44-91751da29915>\u001b[0m in \u001b[0;36mqueryNgramModel\u001b[0;34m(query)\u001b[0m\n\u001b[1;32m      4\u001b[0m     \u001b[0mwords\u001b[0m \u001b[0;34m=\u001b[0m \u001b[0mquery\u001b[0m\u001b[0;34m.\u001b[0m\u001b[0msplit\u001b[0m\u001b[0;34m(\u001b[0m\u001b[0;34m\" \"\u001b[0m\u001b[0;34m)\u001b[0m\u001b[0;34m\u001b[0m\u001b[0m\n\u001b[1;32m      5\u001b[0m     \u001b[0mm\u001b[0m \u001b[0;34m=\u001b[0m \u001b[0mlen\u001b[0m\u001b[0;34m(\u001b[0m\u001b[0mwords\u001b[0m\u001b[0;34m)\u001b[0m\u001b[0;34m\u001b[0m\u001b[0m\n\u001b[0;32m----> 6\u001b[0;31m     \u001b[0;32mreturn\u001b[0m \u001b[0mngrams\u001b[0m\u001b[0;34m[\u001b[0m\u001b[0mm\u001b[0m\u001b[0;34m]\u001b[0m\u001b[0;34m[\u001b[0m\u001b[0mquery\u001b[0m\u001b[0;34m]\u001b[0m\u001b[0;34m*\u001b[0m\u001b[0ml\u001b[0m\u001b[0;34m(\u001b[0m\u001b[0mm\u001b[0m\u001b[0;34m,\u001b[0m\u001b[0;36m0.5\u001b[0m\u001b[0;34m)\u001b[0m\u001b[0;34m\u001b[0m\u001b[0m\n\u001b[0m\u001b[1;32m      7\u001b[0m \u001b[0;34m\u001b[0m\u001b[0m\n",
      "\u001b[0;31mTypeError\u001b[0m: 'function' object has no attribute '__getitem__'"
     ]
    }
   ],
   "source": [
    "print queryNgramModel(\"a b\")"
   ]
  },
  {
   "cell_type": "code",
   "execution_count": null,
   "metadata": {
    "collapsed": true
   },
   "outputs": [],
   "source": []
  }
 ],
 "metadata": {
  "kernelspec": {
   "display_name": "Python 2",
   "language": "python",
   "name": "python2"
  },
  "language_info": {
   "codemirror_mode": {
    "name": "ipython",
    "version": 2
   },
   "file_extension": ".py",
   "mimetype": "text/x-python",
   "name": "python",
   "nbconvert_exporter": "python",
   "pygments_lexer": "ipython2",
   "version": "2.7.12"
  }
 },
 "nbformat": 4,
 "nbformat_minor": 0
}
